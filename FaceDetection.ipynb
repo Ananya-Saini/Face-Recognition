{
 "cells": [
  {
   "cell_type": "markdown",
   "metadata": {},
   "source": [
    "# Face Detection"
   ]
  },
  {
   "cell_type": "code",
   "execution_count": 1,
   "metadata": {},
   "outputs": [],
   "source": [
    "import cv2"
   ]
  },
  {
   "cell_type": "code",
   "execution_count": 2,
   "metadata": {},
   "outputs": [
    {
     "ename": "error",
     "evalue": "OpenCV(4.6.0) D:\\a\\opencv-python\\opencv-python\\opencv\\modules\\highgui\\src\\window_w32.cpp:565: error: (-27:Null pointer) NULL window: 'Live Video' in function 'cvGetModeWindow_W32'\n",
     "output_type": "error",
     "traceback": [
      "\u001b[1;31m---------------------------------------------------------------------------\u001b[0m",
      "\u001b[1;31merror\u001b[0m                                     Traceback (most recent call last)",
      "Cell \u001b[1;32mIn[2], line 18\u001b[0m\n\u001b[0;32m     16\u001b[0m \u001b[39mif\u001b[39;00m cv2\u001b[39m.\u001b[39mwaitKey(\u001b[39m1\u001b[39m) \u001b[39m==\u001b[39m \u001b[39mord\u001b[39m(\u001b[39m\"\u001b[39m\u001b[39mx\u001b[39m\u001b[39m\"\u001b[39m):\n\u001b[0;32m     17\u001b[0m   \u001b[39mbreak\u001b[39;00m\n\u001b[1;32m---> 18\u001b[0m \u001b[39mif\u001b[39;00m (cv2\u001b[39m.\u001b[39;49mgetWindowProperty(\u001b[39m'\u001b[39;49m\u001b[39mLive Video\u001b[39;49m\u001b[39m'\u001b[39;49m, \u001b[39m0\u001b[39;49m) \u001b[39m<\u001b[39m \u001b[39m0\u001b[39m):\n\u001b[0;32m     19\u001b[0m   cv2\u001b[39m.\u001b[39mdestroyAllWindows()\n\u001b[0;32m     20\u001b[0m   \u001b[39mbreak\u001b[39;00m\n",
      "\u001b[1;31merror\u001b[0m: OpenCV(4.6.0) D:\\a\\opencv-python\\opencv-python\\opencv\\modules\\highgui\\src\\window_w32.cpp:565: error: (-27:Null pointer) NULL window: 'Live Video' in function 'cvGetModeWindow_W32'\n"
     ]
    }
   ],
   "source": [
    "face_cap = cv2.CascadeClassifier(\"C:/Users/anany/AppData/Local/Programs/Python/Python38/Lib/site-packages/cv2/data/haarcascade_frontalface_default.xml\")\n",
    "video_cap = cv2.VideoCapture(0)\n",
    "while True:\n",
    "  ret, video_data = video_cap.read()\n",
    "  col = cv2.cvtColor(video_data, cv2.COLOR_BGR2GRAY)\n",
    "  faces = face_cap.detectMultiScale(\n",
    "    col,\n",
    "    scaleFactor = 1.3,\n",
    "    minNeighbors = 8,\n",
    "    minSize = (25, 25),\n",
    "    flags = cv2.CASCADE_SCALE_IMAGE\n",
    "  )\n",
    "  for(x, y, w, h) in faces:\n",
    "    cv2.rectangle(video_data, (x, y), (x+w, x+h), (255, 0, 0), 2)\n",
    "  cv2.imshow(\"Live Video\", video_data)\n",
    "  if cv2.waitKey(1) == ord(\"x\"):\n",
    "    break\n",
    "  if (cv2.getWindowProperty('Live Video', 0) < 0):\n",
    "    cv2.destroyAllWindows()\n",
    "    break\n",
    "video_cap.release()\n",
    "cv2.destroyAllWindows()"
   ]
  }
 ],
 "metadata": {
  "kernelspec": {
   "display_name": "Python 3.8.10 64-bit",
   "language": "python",
   "name": "python3"
  },
  "language_info": {
   "codemirror_mode": {
    "name": "ipython",
    "version": 3
   },
   "file_extension": ".py",
   "mimetype": "text/x-python",
   "name": "python",
   "nbconvert_exporter": "python",
   "pygments_lexer": "ipython3",
   "version": "3.8.10"
  },
  "orig_nbformat": 4,
  "vscode": {
   "interpreter": {
    "hash": "0325447d7338360e85ac366f635128b832c7aa0dd2eae4c2af5b3b901f4d731a"
   }
  }
 },
 "nbformat": 4,
 "nbformat_minor": 2
}
